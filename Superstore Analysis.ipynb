{
 "cells": [
  {
   "cell_type": "code",
   "execution_count": null,
   "id": "87ae7dc2-34c5-462e-8209-b41109f1b859",
   "metadata": {},
   "outputs": [],
   "source": [
    "# Import Libraries\n",
    "import pandas as pd\n",
    "import numpy as np\n",
    "import seaborn as sns\n",
    "import matplotlib.pyplot as plt\n",
    "import plotly.express as px\n",
    "import warnings\n",
    "warnings.filterwarnings('ignore')"
   ]
  },
  {
   "cell_type": "code",
   "execution_count": null,
   "id": "e0d76b81-e869-4254-9709-cf6602db18d9",
   "metadata": {},
   "outputs": [],
   "source": [
    "# Loading the Dataset\n",
    "df = pd.read_csv(\"Sample - Superstore.csv\", encoding='latin1')"
   ]
  },
  {
   "cell_type": "code",
   "execution_count": null,
   "id": "259f6cdf-24f3-4f97-8cce-e54a5e02e4f5",
   "metadata": {},
   "outputs": [],
   "source": [
    "# Previwing the dataset\n",
    "df.head()"
   ]
  },
  {
   "cell_type": "code",
   "execution_count": null,
   "id": "3f3ac399-f25e-4dc5-bd7b-7aa600237270",
   "metadata": {},
   "outputs": [],
   "source": [
    "# Checking the dataset\n",
    "df.shape\n",
    "df.isnull().sum()"
   ]
  },
  {
   "cell_type": "code",
   "execution_count": null,
   "id": "a4d58696-1ca0-4a6e-b940-39df689ce706",
   "metadata": {},
   "outputs": [],
   "source": [
    "# Checking the info\n",
    "df.info()"
   ]
  },
  {
   "cell_type": "code",
   "execution_count": null,
   "id": "e3c8361d-c60f-42ed-be95-c9790a2d585e",
   "metadata": {},
   "outputs": [],
   "source": [
    "#  Convert Dates to Proper Format\n",
    "df['Order Date'] = pd.to_datetime(df['Order Date'])\n",
    "df['Ship Date'] = pd.to_datetime(df['Ship Date'])\n",
    "\n",
    "# Create new time-based features\n",
    "df['Order Month'] = df['Order Date'].dt.month\n",
    "df['Order Year'] = df['Order Date'].dt.year"
   ]
  },
  {
   "cell_type": "code",
   "execution_count": null,
   "id": "ebffbf2a-5a94-4974-858b-b337a4987cdc",
   "metadata": {},
   "outputs": [],
   "source": [
    "# Total sales per region (Bar Chart)\n",
    "region_sales = df.groupby('Region')['Sales'].sum().sort_values()\n",
    "region_sales.plot(kind='bar', color='skyblue')\n",
    "plt.title(\"Total Sales by Region\")\n",
    "plt.xlabel(\"Region\")\n",
    "plt.ylabel(\"Sales ($)\")\n",
    "plt.tight_layout()\n",
    "plt.show()"
   ]
  },
  {
   "cell_type": "code",
   "execution_count": null,
   "id": "99fff6ac-ed4a-45f0-9f66-a5e1952d9124",
   "metadata": {},
   "outputs": [],
   "source": [
    "# Monthly Sales Trend (Line Chart)\n",
    "monthly_sales = df.groupby(df['Order Date'].dt.to_period(\"M\"))['Sales'].sum()\n",
    "monthly_sales.index = monthly_sales.index.to_timestamp()\n",
    "monthly_sales.plot(kind='line', marker='o', color='mediumseagreen')\n",
    "plt.title(\"Monthly Sales Trend\")\n",
    "plt.xlabel(\"Month\")\n",
    "plt.ylabel(\"Sales ($)\")\n",
    "plt.tight_layout()\n",
    "plt.show()"
   ]
  },
  {
   "cell_type": "code",
   "execution_count": null,
   "id": "b92aa2fc-ec1d-4ab6-8bc7-15397ae80521",
   "metadata": {},
   "outputs": [],
   "source": [
    "# Order Count by Ship Mode (Bar Chart)\n",
    "df['Ship Mode'].value_counts().plot(kind='bar', color='coral')\n",
    "plt.title(\"Order Count by Shipping Mode\")\n",
    "plt.xlabel(\"Shipping Mode\")\n",
    "plt.ylabel(\"Number of Orders\")\n",
    "plt.tight_layout()\n",
    "plt.show()"
   ]
  },
  {
   "cell_type": "code",
   "execution_count": null,
   "id": "bd77d10b-652a-4eed-a3e4-c051f180501c",
   "metadata": {},
   "outputs": [],
   "source": [
    "# Top 10 Products by Sales (Horizontal Bar Chart)\n",
    "top_products = df.groupby('Product Name')['Sales'].sum().sort_values(ascending=False).head(10)\n",
    "top_products.plot(kind='bar', color='orchid')\n",
    "plt.title(\"Top 10 Products by Sales\")\n",
    "plt.xlabel(\"Sales ($)\")\n",
    "plt.tight_layout()\n",
    "plt.show()"
   ]
  },
  {
   "cell_type": "code",
   "execution_count": null,
   "id": "13d1cb46-dc06-450b-9018-b64c1b8496ca",
   "metadata": {},
   "outputs": [],
   "source": [
    "# Discount vs Profit (Scatter Plot)\n",
    "plt.scatter(df['Discount'], df['Profit'], alpha=0.4, color='slateblue')\n",
    "plt.title(\"Discount vs Profit\")\n",
    "plt.xlabel(\"Discount\")\n",
    "plt.ylabel(\"Profit\")\n",
    "plt.tight_layout()\n",
    "plt.show()"
   ]
  },
  {
   "cell_type": "code",
   "execution_count": null,
   "id": "6660614b-8cf4-409b-8b05-1e22980782b6",
   "metadata": {},
   "outputs": [],
   "source": [
    "#  Sales by Category and Sub-Category\n",
    "cat_sales = df.groupby('Category')['Sales'].sum()\n",
    "subcat_sales = df.groupby('Sub-Category')['Sales'].sum().sort_values()\n",
    "\n",
    "# Category\n",
    "cat_sales.plot(kind='bar', color='skyblue')\n",
    "plt.title(\"Sales by Category\")\n",
    "plt.ylabel(\"Sales\")\n",
    "plt.show()\n",
    "\n",
    "# Sub-Category\n",
    "subcat_sales.plot(kind='barh', color='lightcoral')\n",
    "plt.title(\"Sales by Sub-Category\")\n",
    "plt.xlabel(\"Sales\")\n",
    "plt.show()"
   ]
  },
  {
   "cell_type": "code",
   "execution_count": null,
   "id": "aaa5c43b-c3fe-4e1e-9d82-3ab7911a56d1",
   "metadata": {},
   "outputs": [],
   "source": []
  }
 ],
 "metadata": {
  "kernelspec": {
   "display_name": "anaconda-ai-2024.04-py310",
   "language": "python",
   "name": "conda-env-anaconda-ai-2024.04-py310-py"
  },
  "language_info": {
   "codemirror_mode": {
    "name": "ipython",
    "version": 3
   },
   "file_extension": ".py",
   "mimetype": "text/x-python",
   "name": "python",
   "nbconvert_exporter": "python",
   "pygments_lexer": "ipython3",
   "version": "3.10.13"
  }
 },
 "nbformat": 4,
 "nbformat_minor": 5
}
